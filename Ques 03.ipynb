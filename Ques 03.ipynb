{
 "cells": [
  {
   "cell_type": "code",
   "execution_count": null,
   "id": "90faa02c",
   "metadata": {},
   "outputs": [],
   "source": [
    "str1 = input(\"Enter first string :\")\n",
    "str2 = input(\"Enter second string :\")\n",
    "n1 = len(str1)\n",
    "n2 = len(str2)\n",
    "concat = ''\n",
    "if n1 != n2:\n",
    "    print(\"The two strings are not rotation of each other\")\n",
    "else:\n",
    "    concat = str1+str1\n",
    "    if str2 in concat:\n",
    "        print(\"The two strings are rotation of each other\")\n",
    "    else:\n",
    "        print(\"The two strings are not rotation of each other\")"
   ]
  }
 ],
 "metadata": {
  "kernelspec": {
   "display_name": "Python 3 (ipykernel)",
   "language": "python",
   "name": "python3"
  },
  "language_info": {
   "codemirror_mode": {
    "name": "ipython",
    "version": 3
   },
   "file_extension": ".py",
   "mimetype": "text/x-python",
   "name": "python",
   "nbconvert_exporter": "python",
   "pygments_lexer": "ipython3",
   "version": "3.11.0"
  }
 },
 "nbformat": 4,
 "nbformat_minor": 5
}
