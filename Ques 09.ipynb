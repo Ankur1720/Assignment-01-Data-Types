{
 "cells": [
  {
   "cell_type": "code",
   "execution_count": 1,
   "id": "ce86f570",
   "metadata": {},
   "outputs": [
    {
     "name": "stdout",
     "output_type": "stream",
     "text": [
      "Original Stack\n",
      "50\n",
      "40\n",
      "300\n",
      "200\n",
      "100\n",
      "\n",
      "Stack after Reversing\n",
      "100\n",
      "200\n",
      "300\n",
      "40\n",
      "50\n"
     ]
    }
   ],
   "source": [
    "class Stack:\n",
    "\n",
    "    def __init__(self):\n",
    "        self.Elements = []\n",
    "\n",
    "    def push(self, value):\n",
    "        self.Elements.append(value)\n",
    "\n",
    "    def pop(self):\n",
    "        return self.Elements.pop()\n",
    "\n",
    "    def empty(self):\n",
    "        return self.Elements == []\n",
    "\n",
    "    def show(self):\n",
    "        for value in reversed(self.Elements):\n",
    "            print(value)\n",
    "\n",
    "\n",
    "def BottomInsert(self, value):\n",
    "    if self.empty():\n",
    "        self.push(value)\n",
    "\n",
    "    else:\n",
    "        popped = self.pop()\n",
    "        BottomInsert(self, value)\n",
    "        self.push(popped) \n",
    "\n",
    "def Reverse(self):\n",
    "    if self.empty():\n",
    "        pass\n",
    "    else:\n",
    "        popped = self.pop()\n",
    "        Reverse(self)\n",
    "        BottomInsert(self, popped)\n",
    "\n",
    "\n",
    "stk = Stack()\n",
    "stk.push(100)\n",
    "stk.push(200)\n",
    "stk.push(300)\n",
    "stk.push(40)\n",
    "stk.push(50)\n",
    "\n",
    "print(\"Original Stack\")\n",
    "stk.show()\n",
    "\n",
    "print(\"\\nStack after Reversing\")\n",
    "Reverse(stk)\n",
    "stk.show()"
   ]
  },
  {
   "cell_type": "code",
   "execution_count": null,
   "id": "945e4b7c",
   "metadata": {},
   "outputs": [],
   "source": []
  }
 ],
 "metadata": {
  "kernelspec": {
   "display_name": "Python 3 (ipykernel)",
   "language": "python",
   "name": "python3"
  },
  "language_info": {
   "codemirror_mode": {
    "name": "ipython",
    "version": 3
   },
   "file_extension": ".py",
   "mimetype": "text/x-python",
   "name": "python",
   "nbconvert_exporter": "python",
   "pygments_lexer": "ipython3",
   "version": "3.11.0"
  }
 },
 "nbformat": 4,
 "nbformat_minor": 5
}
