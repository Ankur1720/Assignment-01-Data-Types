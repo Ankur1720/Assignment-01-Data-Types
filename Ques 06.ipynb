{
 "cells": [
  {
   "cell_type": "code",
   "execution_count": null,
   "id": "9e61a90e",
   "metadata": {},
   "outputs": [],
   "source": [
    "def operatorValidater(x):\n",
    "\n",
    "    if x in [\"+\",\"-\",\"/\",\"*\"]:\n",
    "        return True\n",
    "\n",
    "    return False\n",
    "\n",
    "\n",
    "def postToPre():\n",
    "    expression = input('Enter the expression:')\n",
    "    s = []\n",
    "    length = len(expression)\n",
    "\n",
    "    for i in range(length):\n",
    "        if (operatorValidater(expression[i])):\n",
    "            op1 = s[-1]\n",
    "            s.pop()\n",
    "            op2 = s[-1]\n",
    "            s.pop()\n",
    "            temp = expression[i] + op2 + op1\n",
    "            s.append(temp)\n",
    "\n",
    "        else:\n",
    "            s.append(expression[i])\n",
    "\n",
    "    ans = \"\"\n",
    "    for i in s:\n",
    "        ans += i\n",
    "    return ans\n",
    "\n",
    "# post_exp = \"AB+CD-\"\n",
    "\n",
    "# Function call\n",
    "print(\"Prefix : \", postToPre())"
   ]
  },
  {
   "cell_type": "code",
   "execution_count": null,
   "id": "bad4da32",
   "metadata": {},
   "outputs": [],
   "source": []
  }
 ],
 "metadata": {
  "kernelspec": {
   "display_name": "Python 3 (ipykernel)",
   "language": "python",
   "name": "python3"
  },
  "language_info": {
   "codemirror_mode": {
    "name": "ipython",
    "version": 3
   },
   "file_extension": ".py",
   "mimetype": "text/x-python",
   "name": "python",
   "nbconvert_exporter": "python",
   "pygments_lexer": "ipython3",
   "version": "3.11.0"
  }
 },
 "nbformat": 4,
 "nbformat_minor": 5
}
