{
 "cells": [
  {
   "cell_type": "code",
   "execution_count": null,
   "id": "3ab474c3",
   "metadata": {},
   "outputs": [],
   "source": [
    "def pair_sum(arr, n, given_num):\n",
    "              count = 0\n",
    "              for i in range(0,n):\n",
    "                  for j in range(i+1,n):\n",
    "                      if arr[i]+arr[j] == given_num:\n",
    "                          count+=1\n",
    "              print(\"Number of pairs whose sum is equal to given number :\",count)\n",
    "\n",
    "pair_sum([1,2,3,4,5],5,8)"
   ]
  }
 ],
 "metadata": {
  "kernelspec": {
   "display_name": "Python 3 (ipykernel)",
   "language": "python",
   "name": "python3"
  },
  "language_info": {
   "codemirror_mode": {
    "name": "ipython",
    "version": 3
   },
   "file_extension": ".py",
   "mimetype": "text/x-python",
   "name": "python",
   "nbconvert_exporter": "python",
   "pygments_lexer": "ipython3",
   "version": "3.11.0"
  }
 },
 "nbformat": 4,
 "nbformat_minor": 5
}
