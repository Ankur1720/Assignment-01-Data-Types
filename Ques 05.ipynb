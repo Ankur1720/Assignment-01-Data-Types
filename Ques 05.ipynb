{
 "cells": [
  {
   "cell_type": "code",
   "execution_count": 1,
   "id": "74e98b1e",
   "metadata": {},
   "outputs": [
    {
     "name": "stdout",
     "output_type": "stream",
     "text": [
      "Move disk 1 from rod P to rod Q\n",
      "Move disk 2 from rod P to rod R\n",
      "Move disk 1 from rod Q to rod R\n",
      "Move disk 3 from rod P to rod Q\n",
      "Move disk 1 from rod R to rod P\n",
      "Move disk 2 from rod R to rod Q\n",
      "Move disk 1 from rod P to rod Q\n"
     ]
    }
   ],
   "source": [
    "def TowerOfHanoi(n , tower1, tower2, tower3):\n",
    "              if n == 1:\n",
    "                  print(\"Move disk 1 from rod\",tower1,\"to rod\",tower2)\n",
    "                  return\n",
    "              TowerOfHanoi(n-1, tower1, tower3, tower2)\n",
    "              print(\"Move disk\",n,\"from rod\",tower1,\"to rod\",tower2)\n",
    "              TowerOfHanoi(n-1, tower3, tower2, tower1)\n",
    "\n",
    "TowerOfHanoi(3,'P','Q','R')"
   ]
  },
  {
   "cell_type": "code",
   "execution_count": null,
   "id": "27854b28",
   "metadata": {},
   "outputs": [],
   "source": []
  }
 ],
 "metadata": {
  "kernelspec": {
   "display_name": "Python 3 (ipykernel)",
   "language": "python",
   "name": "python3"
  },
  "language_info": {
   "codemirror_mode": {
    "name": "ipython",
    "version": 3
   },
   "file_extension": ".py",
   "mimetype": "text/x-python",
   "name": "python",
   "nbconvert_exporter": "python",
   "pygments_lexer": "ipython3",
   "version": "3.11.0"
  }
 },
 "nbformat": 4,
 "nbformat_minor": 5
}
