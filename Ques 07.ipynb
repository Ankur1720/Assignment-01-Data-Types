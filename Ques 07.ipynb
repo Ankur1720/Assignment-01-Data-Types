{
 "cells": [
  {
   "cell_type": "code",
   "execution_count": null,
   "id": "74e05968",
   "metadata": {},
   "outputs": [],
   "source": [
    "def prefixToInfix():\n",
    "    prefix = input('enter the expression:')\n",
    "    stack = []\n",
    "    i = len(prefix) - 1\n",
    "    while i >= 0:\n",
    "        if not operatorValidater(prefix[i]):\n",
    "            stack.append(prefix[i])\n",
    "            i -= 1\n",
    "        else:\n",
    "            str = \"(\" + stack.pop() + prefix[i] + stack.pop() + \")\"\n",
    "            stack.append(str)\n",
    "            i -= 1\n",
    "    return stack.pop()\n",
    "\n",
    "def operatorValidater(x):\n",
    "    if x in [\"+\",\"-\",\"/\",\"*\", \"^\", \"(\", \")\"]:\n",
    "        return True\n",
    "    return False\n",
    "\n",
    "\n",
    "# str = \"*-A/BC-/AKL\"\n",
    "print(prefixToInfix())"
   ]
  },
  {
   "cell_type": "code",
   "execution_count": null,
   "id": "6929106b",
   "metadata": {},
   "outputs": [],
   "source": []
  }
 ],
 "metadata": {
  "kernelspec": {
   "display_name": "Python 3 (ipykernel)",
   "language": "python",
   "name": "python3"
  },
  "language_info": {
   "codemirror_mode": {
    "name": "ipython",
    "version": 3
   },
   "file_extension": ".py",
   "mimetype": "text/x-python",
   "name": "python",
   "nbconvert_exporter": "python",
   "pygments_lexer": "ipython3",
   "version": "3.11.0"
  }
 },
 "nbformat": 4,
 "nbformat_minor": 5
}
