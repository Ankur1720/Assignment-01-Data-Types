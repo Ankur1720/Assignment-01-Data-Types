{
 "cells": [
  {
   "cell_type": "code",
   "execution_count": null,
   "id": "aff574e9",
   "metadata": {},
   "outputs": [],
   "source": [
    "def nonRepeat():\n",
    "    string = input('give the string:')\n",
    "    for i in string:\n",
    "        if (string.find(i, (string.find(i)+1))) == -1:\n",
    "            print(\"First non-repeating character is\", i)\n",
    "            break\n",
    "    return\n",
    "\n",
    "nonRepeat()"
   ]
  }
 ],
 "metadata": {
  "kernelspec": {
   "display_name": "Python 3 (ipykernel)",
   "language": "python",
   "name": "python3"
  },
  "language_info": {
   "codemirror_mode": {
    "name": "ipython",
    "version": 3
   },
   "file_extension": ".py",
   "mimetype": "text/x-python",
   "name": "python",
   "nbconvert_exporter": "python",
   "pygments_lexer": "ipython3",
   "version": "3.11.0"
  }
 },
 "nbformat": 4,
 "nbformat_minor": 5
}
